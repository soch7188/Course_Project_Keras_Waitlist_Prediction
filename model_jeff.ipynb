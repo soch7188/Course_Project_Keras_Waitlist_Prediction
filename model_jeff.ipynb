{
 "cells": [
  {
   "cell_type": "code",
   "execution_count": 1,
   "metadata": {},
   "outputs": [],
   "source": [
    "import pickle\n",
    "with open('data.pickle', 'rb') as handle:\n",
    "    fullHeadTailDataList = pickle.load(handle)"
   ]
  },
  {
   "cell_type": "code",
   "execution_count": 2,
   "metadata": {},
   "outputs": [
    {
     "data": {
      "text/plain": [
       "{'datetime': datetime.datetime(2018, 1, 25, 9, 0),\n",
       " 'enrol': 48,\n",
       " 'quota': 125,\n",
       " 'wait': 0}"
      ]
     },
     "execution_count": 2,
     "metadata": {},
     "output_type": "execute_result"
    }
   ],
   "source": [
    "fullHeadTailDataList[0]"
   ]
  },
  {
   "cell_type": "code",
   "execution_count": 3,
   "metadata": {},
   "outputs": [],
   "source": [
    "fullHeadTailDataListEQW = []\n",
    "for item in fullHeadTailDataList:\n",
    "    fullHeadTailDataListEQW.append([item['enrol'],item['quota'],item['wait']])"
   ]
  },
  {
   "cell_type": "code",
   "execution_count": 4,
   "metadata": {},
   "outputs": [],
   "source": [
    "fullHeadTailDataListWAIT = []\n",
    "for item in fullHeadTailDataList:\n",
    "    fullHeadTailDataListWAIT.append(item['wait'])"
   ]
  },
  {
   "cell_type": "code",
   "execution_count": 5,
   "metadata": {},
   "outputs": [
    {
     "name": "stderr",
     "output_type": "stream",
     "text": [
      "/Users/yao-chiehhu/anaconda3/envs/py36/lib/python3.6/site-packages/h5py/__init__.py:36: FutureWarning: Conversion of the second argument of issubdtype from `float` to `np.floating` is deprecated. In future, it will be treated as `np.float64 == np.dtype(float).type`.\n",
      "  from ._conv import register_converters as _register_converters\n",
      "Using TensorFlow backend.\n"
     ]
    }
   ],
   "source": [
    "import numpy as np\n",
    "from keras.models import Sequential\n",
    "from keras.layers import Dense"
   ]
  },
  {
   "cell_type": "code",
   "execution_count": 6,
   "metadata": {},
   "outputs": [],
   "source": [
    "def create_dataset(dataset, look_back=1): \n",
    "    X, Y = [], []\n",
    "    for i in range(len(dataset)-look_back):\n",
    "        a = dataset[i:i+look_back]\n",
    "        X.append(a)\n",
    "        Y.append(dataset[i + look_back]) \n",
    "    return np.array(X), np.array(Y)"
   ]
  },
  {
   "cell_type": "code",
   "execution_count": 7,
   "metadata": {},
   "outputs": [],
   "source": [
    "dataX,dataY = create_dataset(fullHeadTailDataListWAIT, 5)"
   ]
  },
  {
   "cell_type": "code",
   "execution_count": 8,
   "metadata": {},
   "outputs": [
    {
     "name": "stdout",
     "output_type": "stream",
     "text": [
      "(987, 5)\n",
      "(987,)\n"
     ]
    }
   ],
   "source": [
    "print(dataX.shape)\n",
    "print(dataY.shape)"
   ]
  },
  {
   "cell_type": "code",
   "execution_count": 12,
   "metadata": {},
   "outputs": [],
   "source": [
    "import time"
   ]
  },
  {
   "cell_type": "code",
   "execution_count": 16,
   "metadata": {},
   "outputs": [],
   "source": [
    "def trainData(X,Y,_dim):\n",
    "\n",
    "#     np.random.seed(time.time())\n",
    "\n",
    "    X = np.asarray(X)\n",
    "    Y = np.asarray(Y)\n",
    "\n",
    "    # (c)(ii)\n",
    "    model = Sequential()\n",
    "    model.add(Dense(4, input_dim=_dim, activation='relu')) \n",
    "    model.add(Dense(1, activation='sigmoid'))\n",
    "\n",
    "    model.compile(loss=\"binary_crossentropy\", optimizer=\"adam\", metrics=[\"mae\"])\n",
    "    model.fit(X, Y, epochs=50, batch_size=4, validation_split=0.2)\n",
    "\n",
    "    scores = model.evaluate(X, Y)\n",
    "    print(\"{}: {}\".format(model.metrics_names[1], scores[1]*100))\n",
    "\n",
    "    return model"
   ]
  },
  {
   "cell_type": "code",
   "execution_count": 17,
   "metadata": {},
   "outputs": [
    {
     "name": "stdout",
     "output_type": "stream",
     "text": [
      "Train on 789 samples, validate on 198 samples\n",
      "Epoch 1/50\n",
      "789/789 [==============================] - 1s 723us/step - loss: -681.2745 - mean_absolute_error: 47.3589 - val_loss: -302.6906 - val_mean_absolute_error: 22.2172\n",
      "Epoch 2/50\n",
      "789/789 [==============================] - 0s 349us/step - loss: -751.8366 - mean_absolute_error: 47.3183 - val_loss: -326.7966 - val_mean_absolute_error: 22.2172\n",
      "Epoch 3/50\n",
      "789/789 [==============================] - 0s 377us/step - loss: -753.2826 - mean_absolute_error: 47.3184 - val_loss: -342.1555 - val_mean_absolute_error: 22.2172\n",
      "Epoch 4/50\n",
      "789/789 [==============================] - 0s 330us/step - loss: -753.8692 - mean_absolute_error: 47.3184 - val_loss: -350.0245 - val_mean_absolute_error: 22.2172\n",
      "Epoch 5/50\n",
      "789/789 [==============================] - 0s 347us/step - loss: -753.9217 - mean_absolute_error: 47.3184 - val_loss: -351.0887 - val_mean_absolute_error: 22.2172\n",
      "Epoch 6/50\n",
      "789/789 [==============================] - 0s 340us/step - loss: -753.9352 - mean_absolute_error: 47.3185 - val_loss: -351.6592 - val_mean_absolute_error: 22.2172\n",
      "Epoch 7/50\n",
      "789/789 [==============================] - 0s 327us/step - loss: -753.9643 - mean_absolute_error: 47.3185 - val_loss: -352.5076 - val_mean_absolute_error: 22.2172\n",
      "Epoch 8/50\n",
      "789/789 [==============================] - 0s 342us/step - loss: -753.9655 - mean_absolute_error: 47.3185 - val_loss: -352.6016 - val_mean_absolute_error: 22.2172\n",
      "Epoch 9/50\n",
      "789/789 [==============================] - 0s 338us/step - loss: -753.9665 - mean_absolute_error: 47.3185 - val_loss: -353.0688 - val_mean_absolute_error: 22.2172\n",
      "Epoch 10/50\n",
      "789/789 [==============================] - 0s 336us/step - loss: -753.9683 - mean_absolute_error: 47.3185 - val_loss: -353.3563 - val_mean_absolute_error: 22.2172\n",
      "Epoch 11/50\n",
      "789/789 [==============================] - 0s 336us/step - loss: -753.9687 - mean_absolute_error: 47.3185 - val_loss: -353.4597 - val_mean_absolute_error: 22.2172\n",
      "Epoch 12/50\n",
      "789/789 [==============================] - 0s 345us/step - loss: -753.9702 - mean_absolute_error: 47.3185 - val_loss: -353.5157 - val_mean_absolute_error: 22.2172\n",
      "Epoch 13/50\n",
      "789/789 [==============================] - 0s 332us/step - loss: -753.9706 - mean_absolute_error: 47.3185 - val_loss: -353.5641 - val_mean_absolute_error: 22.2172\n",
      "Epoch 14/50\n",
      "789/789 [==============================] - 0s 334us/step - loss: -753.9712 - mean_absolute_error: 47.3186 - val_loss: -353.5641 - val_mean_absolute_error: 22.2172\n",
      "Epoch 15/50\n",
      "789/789 [==============================] - 0s 337us/step - loss: -753.9718 - mean_absolute_error: 47.3186 - val_loss: -353.6317 - val_mean_absolute_error: 22.2172\n",
      "Epoch 16/50\n",
      "789/789 [==============================] - 0s 321us/step - loss: -753.9724 - mean_absolute_error: 47.3186 - val_loss: -353.6877 - val_mean_absolute_error: 22.2172\n",
      "Epoch 17/50\n",
      "789/789 [==============================] - 0s 306us/step - loss: -753.9732 - mean_absolute_error: 47.3186 - val_loss: -353.7068 - val_mean_absolute_error: 22.2172\n",
      "Epoch 18/50\n",
      "789/789 [==============================] - 0s 320us/step - loss: -753.9740 - mean_absolute_error: 47.3186 - val_loss: -353.7396 - val_mean_absolute_error: 22.2172\n",
      "Epoch 19/50\n",
      "789/789 [==============================] - 0s 346us/step - loss: -753.9749 - mean_absolute_error: 47.3186 - val_loss: -353.7396 - val_mean_absolute_error: 22.2172\n",
      "Epoch 20/50\n",
      "789/789 [==============================] - 0s 344us/step - loss: -753.9759 - mean_absolute_error: 47.3186 - val_loss: -353.8728 - val_mean_absolute_error: 22.2172\n",
      "Epoch 21/50\n",
      "789/789 [==============================] - 0s 362us/step - loss: -753.9770 - mean_absolute_error: 47.3186 - val_loss: -353.9288 - val_mean_absolute_error: 22.2172\n",
      "Epoch 22/50\n",
      "789/789 [==============================] - 0s 369us/step - loss: -753.9782 - mean_absolute_error: 47.3187 - val_loss: -354.0444 - val_mean_absolute_error: 22.2172\n",
      "Epoch 23/50\n",
      "789/789 [==============================] - 0s 365us/step - loss: -753.9795 - mean_absolute_error: 47.3187 - val_loss: -354.1352 - val_mean_absolute_error: 22.2172\n",
      "Epoch 24/50\n",
      "789/789 [==============================] - 0s 392us/step - loss: -753.9810 - mean_absolute_error: 47.3187 - val_loss: -354.1352 - val_mean_absolute_error: 22.2172\n",
      "Epoch 25/50\n",
      "789/789 [==============================] - 0s 327us/step - loss: -753.9827 - mean_absolute_error: 47.3187 - val_loss: -354.1352 - val_mean_absolute_error: 22.2172\n",
      "Epoch 26/50\n",
      "789/789 [==============================] - 0s 362us/step - loss: -753.9844 - mean_absolute_error: 47.3187 - val_loss: -354.1352 - val_mean_absolute_error: 22.2172\n",
      "Epoch 27/50\n",
      "789/789 [==============================] - 0s 351us/step - loss: -753.9864 - mean_absolute_error: 47.3188 - val_loss: -354.1947 - val_mean_absolute_error: 22.2172\n",
      "Epoch 28/50\n",
      "789/789 [==============================] - 0s 343us/step - loss: -753.9886 - mean_absolute_error: 47.3188 - val_loss: -354.1947 - val_mean_absolute_error: 22.2172\n",
      "Epoch 29/50\n",
      "789/789 [==============================] - 0s 367us/step - loss: -753.9910 - mean_absolute_error: 47.3189 - val_loss: -354.1947 - val_mean_absolute_error: 22.2172\n",
      "Epoch 30/50\n",
      "789/789 [==============================] - 0s 359us/step - loss: -753.9933 - mean_absolute_error: 47.3189 - val_loss: -354.1947 - val_mean_absolute_error: 22.2172\n",
      "Epoch 31/50\n",
      "789/789 [==============================] - 0s 334us/step - loss: -753.9964 - mean_absolute_error: 47.3189 - val_loss: -354.1947 - val_mean_absolute_error: 22.2172\n",
      "Epoch 32/50\n",
      "789/789 [==============================] - 0s 353us/step - loss: -753.9996 - mean_absolute_error: 47.3190 - val_loss: -354.1947 - val_mean_absolute_error: 22.2172\n",
      "Epoch 33/50\n",
      "789/789 [==============================] - 0s 359us/step - loss: -754.0030 - mean_absolute_error: 47.3190 - val_loss: -354.1947 - val_mean_absolute_error: 22.2172\n",
      "Epoch 34/50\n",
      "789/789 [==============================] - 0s 381us/step - loss: -754.0066 - mean_absolute_error: 47.3190 - val_loss: -354.1947 - val_mean_absolute_error: 22.2172\n",
      "Epoch 35/50\n",
      "789/789 [==============================] - 0s 371us/step - loss: -754.0104 - mean_absolute_error: 47.3191 - val_loss: -354.1947 - val_mean_absolute_error: 22.2172\n",
      "Epoch 36/50\n",
      "789/789 [==============================] - 0s 358us/step - loss: -754.0147 - mean_absolute_error: 47.3192 - val_loss: -354.1947 - val_mean_absolute_error: 22.2172\n",
      "Epoch 37/50\n",
      "789/789 [==============================] - 0s 349us/step - loss: -754.0192 - mean_absolute_error: 47.3192 - val_loss: -354.1947 - val_mean_absolute_error: 22.2172\n",
      "Epoch 38/50\n",
      "789/789 [==============================] - 0s 345us/step - loss: -754.0242 - mean_absolute_error: 47.3192 - val_loss: -354.1947 - val_mean_absolute_error: 22.2172\n",
      "Epoch 39/50\n",
      "789/789 [==============================] - 0s 346us/step - loss: -754.0299 - mean_absolute_error: 47.3193 - val_loss: -354.1947 - val_mean_absolute_error: 22.2172\n",
      "Epoch 40/50\n",
      "789/789 [==============================] - 0s 351us/step - loss: -754.0353 - mean_absolute_error: 47.3193 - val_loss: -354.1947 - val_mean_absolute_error: 22.2172\n",
      "Epoch 41/50\n",
      "789/789 [==============================] - 0s 348us/step - loss: -754.0418 - mean_absolute_error: 47.3194 - val_loss: -354.1947 - val_mean_absolute_error: 22.2172\n",
      "Epoch 42/50\n",
      "789/789 [==============================] - 0s 339us/step - loss: -754.0496 - mean_absolute_error: 47.3195 - val_loss: -354.1947 - val_mean_absolute_error: 22.2172\n",
      "Epoch 43/50\n",
      "789/789 [==============================] - 0s 338us/step - loss: -754.0571 - mean_absolute_error: 47.3195 - val_loss: -354.1947 - val_mean_absolute_error: 22.2172\n",
      "Epoch 44/50\n",
      "789/789 [==============================] - 0s 330us/step - loss: -754.0657 - mean_absolute_error: 47.3196 - val_loss: -354.1947 - val_mean_absolute_error: 22.2172\n",
      "Epoch 45/50\n",
      "789/789 [==============================] - 0s 350us/step - loss: -754.0746 - mean_absolute_error: 47.3196 - val_loss: -354.1947 - val_mean_absolute_error: 22.2172\n",
      "Epoch 46/50\n",
      "789/789 [==============================] - 0s 313us/step - loss: -754.0837 - mean_absolute_error: 47.3197 - val_loss: -354.1947 - val_mean_absolute_error: 22.2172\n",
      "Epoch 47/50\n"
     ]
    },
    {
     "name": "stdout",
     "output_type": "stream",
     "text": [
      "789/789 [==============================] - 0s 320us/step - loss: -754.0930 - mean_absolute_error: 47.3197 - val_loss: -354.1947 - val_mean_absolute_error: 22.2172\n",
      "Epoch 48/50\n",
      "789/789 [==============================] - 0s 338us/step - loss: -754.1053 - mean_absolute_error: 47.3198 - val_loss: -354.1947 - val_mean_absolute_error: 22.2172\n",
      "Epoch 49/50\n",
      "789/789 [==============================] - 0s 342us/step - loss: -754.1177 - mean_absolute_error: 47.3198 - val_loss: -354.1947 - val_mean_absolute_error: 22.2172\n",
      "Epoch 50/50\n",
      "789/789 [==============================] - 0s 352us/step - loss: -754.1294 - mean_absolute_error: 47.3199 - val_loss: -354.1947 - val_mean_absolute_error: 22.2172\n",
      "987/987 [==============================] - 0s 25us/step\n",
      "mean_absolute_error: 4228.408975997352\n"
     ]
    }
   ],
   "source": [
    "model = trainData(dataX,dataY,5)\n",
    "# predictData(model)"
   ]
  },
  {
   "cell_type": "code",
   "execution_count": null,
   "metadata": {},
   "outputs": [],
   "source": []
  }
 ],
 "metadata": {
  "kernelspec": {
   "display_name": "Python 3",
   "language": "python",
   "name": "python3"
  },
  "language_info": {
   "codemirror_mode": {
    "name": "ipython",
    "version": 3
   },
   "file_extension": ".py",
   "mimetype": "text/x-python",
   "name": "python",
   "nbconvert_exporter": "python",
   "pygments_lexer": "ipython3",
   "version": "3.6.4"
  }
 },
 "nbformat": 4,
 "nbformat_minor": 2
}
