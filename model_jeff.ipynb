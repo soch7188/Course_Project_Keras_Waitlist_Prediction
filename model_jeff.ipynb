{
 "cells": [
  {
   "cell_type": "code",
   "execution_count": null,
   "metadata": {},
   "outputs": [],
   "source": [
    "import numpy as np\n",
    "from keras.models import Sequential\n",
    "from keras.preprocessing import sequence\n",
    "from keras.layers import Dense, Embedding\n",
    "from keras.layers import LSTM, Dropout\n",
    "import time\n",
    "import pickle"
   ]
  },
  {
   "cell_type": "code",
   "execution_count": 1,
   "metadata": {},
   "outputs": [],
   "source": [
    "with open('data.pickle', 'rb') as handle:\n",
    "    fullHeadTailDataList = pickle.load(handle)"
   ]
  },
  {
   "cell_type": "code",
   "execution_count": 2,
   "metadata": {},
   "outputs": [
    {
     "data": {
      "text/plain": [
       "{'datetime': datetime.datetime(2018, 1, 25, 9, 0),\n",
       " 'enrol': 48,\n",
       " 'quota': 125,\n",
       " 'wait': 0}"
      ]
     },
     "execution_count": 2,
     "metadata": {},
     "output_type": "execute_result"
    }
   ],
   "source": [
    "fullHeadTailDataList[0]"
   ]
  },
  {
   "cell_type": "code",
   "execution_count": 3,
   "metadata": {},
   "outputs": [],
   "source": [
    "fullHeadTailDataListEQW = []\n",
    "for item in fullHeadTailDataList:\n",
    "    fullHeadTailDataListEQW.append([item['enrol'],item['quota'],item['wait']])"
   ]
  },
  {
   "cell_type": "code",
   "execution_count": 4,
   "metadata": {},
   "outputs": [],
   "source": [
    "fullHeadTailDataListWAIT = []\n",
    "for item in fullHeadTailDataList:\n",
    "    fullHeadTailDataListWAIT.append(item['wait'])"
   ]
  },
  {
   "cell_type": "code",
   "execution_count": 6,
   "metadata": {},
   "outputs": [],
   "source": [
    "def create_dataset(dataset, look_back=1): \n",
    "    X, Y = [], []\n",
    "    for i in range(len(dataset)-look_back):\n",
    "        a = dataset[i:i+look_back]\n",
    "        X.append(a)\n",
    "        Y.append(dataset[i + look_back]) \n",
    "    return np.array(X), np.array(Y)"
   ]
  },
  {
   "cell_type": "code",
   "execution_count": 7,
   "metadata": {},
   "outputs": [],
   "source": [
    "_,dataY = create_dataset(fullHeadTailDataListWAIT, 2)\n",
    "dataX,_ = create_dataset(fullHeadTailDataListEQW, 2)"
   ]
  },
  {
   "cell_type": "code",
   "execution_count": 8,
   "metadata": {},
   "outputs": [
    {
     "name": "stdout",
     "output_type": "stream",
     "text": [
      "(990, 2, 3)\n",
      "(990,)\n"
     ]
    }
   ],
   "source": [
    "print(dataX.shape)\n",
    "print(dataY.shape)\n",
    "# dataX = np.reshape(dataX, (990,3,2))"
   ]
  },
  {
   "cell_type": "code",
   "execution_count": 10,
   "metadata": {},
   "outputs": [],
   "source": [
    "def trainData(X,Y,_dim):\n",
    "    X = np.asarray(X)\n",
    "    Y = np.asarray(Y)\n",
    "\n",
    "    model = Sequential()\n",
    "    model.add(Dense(8, input_dim=_dim, activation='relu')) \n",
    "    model.add(Dense(1, activation='sigmoid'))\n",
    "\n",
    "    model.compile(loss=\"binary_crossentropy\", optimizer=\"adam\", metrics=[\"mae\"])\n",
    "    model.fit(X, Y, epochs=50, batch_size=4, validation_split=0.2)\n",
    "\n",
    "    scores = model.evaluate(X, Y)\n",
    "    print(\"{}: {}\".format(model.metrics_names[1], scores[1]*100))\n",
    "\n",
    "    return model"
   ]
  },
  {
   "cell_type": "code",
   "execution_count": 14,
   "metadata": {},
   "outputs": [],
   "source": [
    "def trainLSTM(X,Y, dim=1, lookback=1):\n",
    "    # Reshape to fit the LSTM model\n",
    "    X = np.reshape(X, (len(X),dim,lookback))\n",
    "    \n",
    "    # Model\n",
    "    model = Sequential()\n",
    "    model.add(LSTM(4, input_shape=(dim,lookback)))\n",
    "    model.add(Dropout(0.2))\n",
    "    model.add(Dense(1, activation='relu'))\n",
    "    model.compile(loss=\"binary_crossentropy\", optimizer=\"adam\", metrics=[\"mae\"])\n",
    "    model.fit(X, Y, epochs=50, batch_size=8, validation_split=0.2)\n",
    "\n",
    "    # Ealuation\n",
    "    scores = model.evaluate(X, Y)\n",
    "    print(\"{}: {}\".format(model.metrics_names[1], scores[1]*100))\n",
    "    \n",
    "    return model"
   ]
  },
  {
   "cell_type": "code",
   "execution_count": 15,
   "metadata": {},
   "outputs": [],
   "source": [
    "# model = trainData(dataX,dataY,3)"
   ]
  },
  {
   "cell_type": "code",
   "execution_count": 16,
   "metadata": {},
   "outputs": [
    {
     "name": "stdout",
     "output_type": "stream",
     "text": [
      "Train on 792 samples, validate on 198 samples\n",
      "Epoch 1/50\n",
      "792/792 [==============================] - 2s 2ms/step - loss: 311.0950 - mean_absolute_error: 47.9876 - val_loss: 70.1338 - val_mean_absolute_error: 23.1663\n",
      "Epoch 2/50\n",
      "792/792 [==============================] - 0s 564us/step - loss: 191.3080 - mean_absolute_error: 47.9436 - val_loss: 53.6851 - val_mean_absolute_error: 23.1281\n",
      "Epoch 3/50\n",
      "792/792 [==============================] - 0s 605us/step - loss: 182.3123 - mean_absolute_error: 47.9106 - val_loss: 45.3550 - val_mean_absolute_error: 23.0941\n",
      "Epoch 4/50\n",
      "792/792 [==============================] - 0s 557us/step - loss: 171.5180 - mean_absolute_error: 47.8955 - val_loss: 38.7210 - val_mean_absolute_error: 23.0592\n",
      "Epoch 5/50\n",
      "792/792 [==============================] - 0s 545us/step - loss: 159.0311 - mean_absolute_error: 47.8612 - val_loss: 32.7942 - val_mean_absolute_error: 23.0215\n",
      "Epoch 6/50\n",
      "792/792 [==============================] - 0s 572us/step - loss: 150.1305 - mean_absolute_error: 47.8324 - val_loss: 27.6026 - val_mean_absolute_error: 22.9832\n",
      "Epoch 7/50\n",
      "792/792 [==============================] - 0s 533us/step - loss: 151.0863 - mean_absolute_error: 47.7981 - val_loss: 22.7885 - val_mean_absolute_error: 22.9433\n",
      "Epoch 8/50\n",
      "792/792 [==============================] - 0s 553us/step - loss: 121.9183 - mean_absolute_error: 47.7557 - val_loss: 17.8230 - val_mean_absolute_error: 22.8980\n",
      "Epoch 9/50\n",
      "792/792 [==============================] - 0s 528us/step - loss: 106.3462 - mean_absolute_error: 47.7054 - val_loss: 12.0310 - val_mean_absolute_error: 22.8404\n",
      "Epoch 10/50\n",
      "792/792 [==============================] - 0s 558us/step - loss: 54.6212 - mean_absolute_error: 47.6617 - val_loss: 5.1871 - val_mean_absolute_error: 22.7677\n",
      "Epoch 11/50\n",
      "792/792 [==============================] - 0s 538us/step - loss: 9.2843 - mean_absolute_error: 47.6118 - val_loss: 0.9639 - val_mean_absolute_error: 22.7214\n",
      "Epoch 12/50\n",
      "792/792 [==============================] - 0s 544us/step - loss: -0.3422 - mean_absolute_error: 47.5776 - val_loss: -3.3621 - val_mean_absolute_error: 22.6738\n",
      "Epoch 13/50\n",
      "792/792 [==============================] - 0s 551us/step - loss: 15.3200 - mean_absolute_error: 47.5493 - val_loss: -8.0159 - val_mean_absolute_error: 22.6233\n",
      "Epoch 14/50\n",
      "792/792 [==============================] - 0s 540us/step - loss: -42.8248 - mean_absolute_error: 47.4707 - val_loss: -13.6974 - val_mean_absolute_error: 22.5643\n",
      "Epoch 15/50\n",
      "792/792 [==============================] - 0s 525us/step - loss: -33.5941 - mean_absolute_error: 47.4236 - val_loss: -22.2020 - val_mean_absolute_error: 22.4842\n",
      "Epoch 16/50\n",
      "792/792 [==============================] - 0s 543us/step - loss: -69.6582 - mean_absolute_error: 47.3491 - val_loss: -47.2064 - val_mean_absolute_error: 22.3240\n",
      "Epoch 17/50\n",
      "792/792 [==============================] - 0s 519us/step - loss: -469.4310 - mean_absolute_error: 47.1993 - val_loss: -56.3629 - val_mean_absolute_error: 22.2908\n",
      "Epoch 18/50\n",
      "792/792 [==============================] - 0s 523us/step - loss: -498.9005 - mean_absolute_error: 47.1810 - val_loss: -57.1833 - val_mean_absolute_error: 22.2882\n",
      "Epoch 19/50\n",
      "792/792 [==============================] - 0s 568us/step - loss: -497.9491 - mean_absolute_error: 47.1834 - val_loss: -58.1948 - val_mean_absolute_error: 22.2851\n",
      "Epoch 20/50\n",
      "792/792 [==============================] - 0s 539us/step - loss: -483.7338 - mean_absolute_error: 47.1879 - val_loss: -58.7423 - val_mean_absolute_error: 22.2835\n",
      "Epoch 21/50\n",
      "792/792 [==============================] - 0s 561us/step - loss: -503.7596 - mean_absolute_error: 47.1661 - val_loss: -59.6454 - val_mean_absolute_error: 22.2809\n",
      "Epoch 22/50\n",
      "792/792 [==============================] - 0s 556us/step - loss: -514.4197 - mean_absolute_error: 47.1638 - val_loss: -60.8033 - val_mean_absolute_error: 22.2778\n",
      "Epoch 23/50\n",
      "792/792 [==============================] - 0s 548us/step - loss: -496.7826 - mean_absolute_error: 47.1673 - val_loss: -61.6715 - val_mean_absolute_error: 22.2757\n",
      "Epoch 24/50\n",
      "792/792 [==============================] - 0s 597us/step - loss: -465.9725 - mean_absolute_error: 47.2114 - val_loss: -62.8088 - val_mean_absolute_error: 22.2729\n",
      "Epoch 25/50\n",
      "792/792 [==============================] - 0s 579us/step - loss: -440.9673 - mean_absolute_error: 47.2244 - val_loss: -63.9923 - val_mean_absolute_error: 22.2702\n",
      "Epoch 26/50\n",
      "792/792 [==============================] - 0s 564us/step - loss: -489.1567 - mean_absolute_error: 47.1782 - val_loss: -65.0283 - val_mean_absolute_error: 22.2679\n",
      "Epoch 27/50\n",
      "792/792 [==============================] - 0s 554us/step - loss: -492.5327 - mean_absolute_error: 47.1762 - val_loss: -66.3870 - val_mean_absolute_error: 22.2650\n",
      "Epoch 28/50\n",
      "792/792 [==============================] - 0s 601us/step - loss: -437.7735 - mean_absolute_error: 47.2046 - val_loss: -67.4429 - val_mean_absolute_error: 22.2629\n",
      "Epoch 29/50\n",
      "792/792 [==============================] - 0s 601us/step - loss: -464.3901 - mean_absolute_error: 47.2043 - val_loss: -69.5294 - val_mean_absolute_error: 22.2590\n",
      "Epoch 30/50\n",
      "792/792 [==============================] - 0s 606us/step - loss: -421.7800 - mean_absolute_error: 47.2265 - val_loss: -72.1166 - val_mean_absolute_error: 22.2546\n",
      "Epoch 31/50\n",
      "792/792 [==============================] - 0s 600us/step - loss: -481.1365 - mean_absolute_error: 47.1688 - val_loss: -74.1572 - val_mean_absolute_error: 22.2514\n",
      "Epoch 32/50\n",
      "792/792 [==============================] - 1s 650us/step - loss: -495.5328 - mean_absolute_error: 47.1602 - val_loss: -77.3436 - val_mean_absolute_error: 22.2470\n",
      "Epoch 33/50\n",
      "792/792 [==============================] - 1s 638us/step - loss: -457.8673 - mean_absolute_error: 47.1798 - val_loss: -79.8606 - val_mean_absolute_error: 22.2439\n",
      "Epoch 34/50\n",
      "792/792 [==============================] - 1s 662us/step - loss: -492.0901 - mean_absolute_error: 47.1466 - val_loss: -83.0522 - val_mean_absolute_error: 22.2404\n",
      "Epoch 35/50\n",
      "792/792 [==============================] - 1s 650us/step - loss: -482.3272 - mean_absolute_error: 47.1607 - val_loss: -87.7413 - val_mean_absolute_error: 22.2361\n",
      "Epoch 36/50\n",
      "792/792 [==============================] - 1s 660us/step - loss: -504.2401 - mean_absolute_error: 47.1380 - val_loss: -93.5585 - val_mean_absolute_error: 22.2318\n",
      "Epoch 37/50\n",
      "792/792 [==============================] - 1s 638us/step - loss: -437.8694 - mean_absolute_error: 47.1847 - val_loss: -104.3592 - val_mean_absolute_error: 22.2263\n",
      "Epoch 38/50\n",
      "792/792 [==============================] - 1s 651us/step - loss: -462.7585 - mean_absolute_error: 47.1607 - val_loss: -125.5057 - val_mean_absolute_error: 22.2207\n",
      "Epoch 39/50\n",
      "792/792 [==============================] - 1s 659us/step - loss: -480.5517 - mean_absolute_error: 47.1519 - val_loss: -352.7687 - val_mean_absolute_error: 22.2155\n",
      "Epoch 40/50\n",
      "792/792 [==============================] - 1s 640us/step - loss: -462.4055 - mean_absolute_error: 47.1563 - val_loss: -354.1947 - val_mean_absolute_error: 22.2100\n",
      "Epoch 41/50\n",
      "792/792 [==============================] - 1s 671us/step - loss: -504.4985 - mean_absolute_error: 47.1170 - val_loss: -354.1947 - val_mean_absolute_error: 22.2053\n",
      "Epoch 42/50\n",
      "792/792 [==============================] - 1s 678us/step - loss: -454.5299 - mean_absolute_error: 47.1374 - val_loss: -354.1947 - val_mean_absolute_error: 22.1995\n",
      "Epoch 43/50\n",
      "792/792 [==============================] - 0s 626us/step - loss: -463.0879 - mean_absolute_error: 47.1315 - val_loss: -354.1947 - val_mean_absolute_error: 22.1939\n",
      "Epoch 44/50\n",
      "792/792 [==============================] - 1s 681us/step - loss: -499.4458 - mean_absolute_error: 47.0971 - val_loss: -354.1947 - val_mean_absolute_error: 22.1870\n",
      "Epoch 45/50\n",
      "792/792 [==============================] - 1s 635us/step - loss: -501.7573 - mean_absolute_error: 47.0851 - val_loss: -354.1947 - val_mean_absolute_error: 22.1810\n",
      "Epoch 46/50\n",
      "792/792 [==============================] - 1s 664us/step - loss: -475.9616 - mean_absolute_error: 47.1103 - val_loss: -354.1947 - val_mean_absolute_error: 22.1744\n",
      "Epoch 47/50\n",
      "792/792 [==============================] - 0s 626us/step - loss: -460.0600 - mean_absolute_error: 47.1123 - val_loss: -354.1947 - val_mean_absolute_error: 22.1680\n",
      "Epoch 48/50\n"
     ]
    },
    {
     "name": "stdout",
     "output_type": "stream",
     "text": [
      "792/792 [==============================] - 0s 627us/step - loss: -510.4897 - mean_absolute_error: 47.0802 - val_loss: -354.1947 - val_mean_absolute_error: 22.1593\n",
      "Epoch 49/50\n",
      "792/792 [==============================] - 0s 579us/step - loss: -491.4004 - mean_absolute_error: 47.0888 - val_loss: -354.1947 - val_mean_absolute_error: 22.1527\n",
      "Epoch 50/50\n",
      "792/792 [==============================] - 0s 619us/step - loss: -497.3983 - mean_absolute_error: 47.0624 - val_loss: -354.1947 - val_mean_absolute_error: 22.1464\n",
      "990/990 [==============================] - 0s 37us/step\n",
      "mean_absolute_error: 4208.787630254572\n"
     ]
    }
   ],
   "source": [
    "# X,Y,dim,lookback\n",
    "model = trainLSTM(dataX,dataY,3,2)"
   ]
  },
  {
   "cell_type": "code",
   "execution_count": null,
   "metadata": {},
   "outputs": [],
   "source": []
  }
 ],
 "metadata": {
  "kernelspec": {
   "display_name": "Python 3",
   "language": "python",
   "name": "python3"
  },
  "language_info": {
   "codemirror_mode": {
    "name": "ipython",
    "version": 3
   },
   "file_extension": ".py",
   "mimetype": "text/x-python",
   "name": "python",
   "nbconvert_exporter": "python",
   "pygments_lexer": "ipython3",
   "version": "3.6.4"
  }
 },
 "nbformat": 4,
 "nbformat_minor": 2
}
