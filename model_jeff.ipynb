{
 "cells": [
  {
   "cell_type": "code",
   "execution_count": 1,
   "metadata": {},
   "outputs": [],
   "source": [
    "import pickle\n",
    "with open('data.pickle', 'rb') as handle:\n",
    "    fullHeadTailDataList = pickle.load(handle)"
   ]
  },
  {
   "cell_type": "code",
   "execution_count": 2,
   "metadata": {},
   "outputs": [
    {
     "data": {
      "text/plain": [
       "{'datetime': datetime.datetime(2018, 1, 25, 9, 0),\n",
       " 'enrol': 48,\n",
       " 'quota': 125,\n",
       " 'wait': 0}"
      ]
     },
     "execution_count": 2,
     "metadata": {},
     "output_type": "execute_result"
    }
   ],
   "source": [
    "fullHeadTailDataList[0]"
   ]
  },
  {
   "cell_type": "code",
   "execution_count": 3,
   "metadata": {},
   "outputs": [],
   "source": [
    "fullHeadTailDataListEQW = []\n",
    "for item in fullHeadTailDataList:\n",
    "    fullHeadTailDataListEQW.append([item['enrol'],item['quota'],item['wait']])"
   ]
  },
  {
   "cell_type": "code",
   "execution_count": 4,
   "metadata": {},
   "outputs": [],
   "source": [
    "fullHeadTailDataListWAIT = []\n",
    "for item in fullHeadTailDataList:\n",
    "    fullHeadTailDataListWAIT.append(item['wait'])"
   ]
  },
  {
   "cell_type": "code",
   "execution_count": 5,
   "metadata": {},
   "outputs": [
    {
     "name": "stderr",
     "output_type": "stream",
     "text": [
      "/Users/yao-chiehhu/anaconda3/envs/py36/lib/python3.6/site-packages/h5py/__init__.py:36: FutureWarning: Conversion of the second argument of issubdtype from `float` to `np.floating` is deprecated. In future, it will be treated as `np.float64 == np.dtype(float).type`.\n",
      "  from ._conv import register_converters as _register_converters\n",
      "Using TensorFlow backend.\n"
     ]
    }
   ],
   "source": [
    "import numpy as np\n",
    "from keras.models import Sequential\n",
    "from keras.layers import Dense"
   ]
  },
  {
   "cell_type": "code",
   "execution_count": 6,
   "metadata": {},
   "outputs": [],
   "source": [
    "def create_dataset(dataset, look_back=1): \n",
    "    X, Y = [], []\n",
    "    for i in range(len(dataset)-look_back):\n",
    "        a = dataset[i:i+look_back]\n",
    "        X.append(a)\n",
    "        Y.append(dataset[i + look_back]) \n",
    "    return np.array(X), np.array(Y)"
   ]
  },
  {
   "cell_type": "code",
   "execution_count": 25,
   "metadata": {},
   "outputs": [],
   "source": [
    "_,dataY = create_dataset(fullHeadTailDataListWAIT, 1)\n",
    "dataX,_ = create_dataset(fullHeadTailDataListEQW, 1)"
   ]
  },
  {
   "cell_type": "code",
   "execution_count": 28,
   "metadata": {},
   "outputs": [
    {
     "name": "stdout",
     "output_type": "stream",
     "text": [
      "(991, 3)\n",
      "(991,)\n"
     ]
    }
   ],
   "source": [
    "print(dataX.shape)\n",
    "print(dataY.shape)\n",
    "dataX = np.reshape(dataX, (991,3))"
   ]
  },
  {
   "cell_type": "code",
   "execution_count": 29,
   "metadata": {},
   "outputs": [],
   "source": [
    "import time"
   ]
  },
  {
   "cell_type": "code",
   "execution_count": 30,
   "metadata": {},
   "outputs": [],
   "source": [
    "def trainData(X,Y,_dim):\n",
    "    X = np.asarray(X)\n",
    "    Y = np.asarray(Y)\n",
    "\n",
    "    model = Sequential()\n",
    "    model.add(Dense(8, input_dim=_dim, activation='relu')) \n",
    "    model.add(Dense(1, activation='sigmoid'))\n",
    "\n",
    "    model.compile(loss=\"binary_crossentropy\", optimizer=\"adam\", metrics=[\"mae\"])\n",
    "    model.fit(X, Y, epochs=50, batch_size=4, validation_split=0.2)\n",
    "\n",
    "    scores = model.evaluate(X, Y)\n",
    "    print(\"{}: {}\".format(model.metrics_names[1], scores[1]*100))\n",
    "\n",
    "    return model"
   ]
  },
  {
   "cell_type": "code",
   "execution_count": 31,
   "metadata": {},
   "outputs": [
    {
     "name": "stdout",
     "output_type": "stream",
     "text": [
      "Train on 792 samples, validate on 199 samples\n",
      "Epoch 1/50\n",
      "792/792 [==============================] - 1s 862us/step - loss: 775.0321 - mean_absolute_error: 48.0846 - val_loss: 374.9280 - val_mean_absolute_error: 23.2613\n",
      "Epoch 2/50\n",
      "792/792 [==============================] - 0s 321us/step - loss: 775.0321 - mean_absolute_error: 48.0846 - val_loss: 374.9280 - val_mean_absolute_error: 23.2613\n",
      "Epoch 3/50\n",
      "792/792 [==============================] - 0s 326us/step - loss: 775.0321 - mean_absolute_error: 48.0846 - val_loss: 374.9280 - val_mean_absolute_error: 23.2613\n",
      "Epoch 4/50\n",
      "792/792 [==============================] - 0s 319us/step - loss: 775.0321 - mean_absolute_error: 48.0846 - val_loss: 374.9280 - val_mean_absolute_error: 23.2613\n",
      "Epoch 5/50\n",
      "792/792 [==============================] - 0s 337us/step - loss: 775.0321 - mean_absolute_error: 48.0846 - val_loss: 374.9280 - val_mean_absolute_error: 23.2613\n",
      "Epoch 6/50\n",
      "792/792 [==============================] - 0s 333us/step - loss: 775.0321 - mean_absolute_error: 48.0846 - val_loss: 374.9280 - val_mean_absolute_error: 23.2613\n",
      "Epoch 7/50\n",
      "792/792 [==============================] - 0s 362us/step - loss: 775.0321 - mean_absolute_error: 48.0846 - val_loss: 374.9280 - val_mean_absolute_error: 23.2613\n",
      "Epoch 8/50\n",
      "792/792 [==============================] - 0s 336us/step - loss: 775.0321 - mean_absolute_error: 48.0846 - val_loss: 374.9280 - val_mean_absolute_error: 23.2613\n",
      "Epoch 9/50\n",
      "792/792 [==============================] - 0s 381us/step - loss: 775.0321 - mean_absolute_error: 48.0846 - val_loss: 374.9280 - val_mean_absolute_error: 23.2613\n",
      "Epoch 10/50\n",
      "792/792 [==============================] - 0s 333us/step - loss: 775.0321 - mean_absolute_error: 48.0846 - val_loss: 374.9280 - val_mean_absolute_error: 23.2613\n",
      "Epoch 11/50\n",
      "792/792 [==============================] - 0s 307us/step - loss: 775.0321 - mean_absolute_error: 48.0846 - val_loss: 374.9280 - val_mean_absolute_error: 23.2613\n",
      "Epoch 12/50\n",
      "792/792 [==============================] - 0s 333us/step - loss: 775.0321 - mean_absolute_error: 48.0846 - val_loss: 374.9280 - val_mean_absolute_error: 23.2613\n",
      "Epoch 13/50\n",
      "792/792 [==============================] - 0s 330us/step - loss: 775.0321 - mean_absolute_error: 48.0846 - val_loss: 374.9280 - val_mean_absolute_error: 23.2613\n",
      "Epoch 14/50\n",
      "792/792 [==============================] - 0s 341us/step - loss: 775.0321 - mean_absolute_error: 48.0846 - val_loss: 374.9280 - val_mean_absolute_error: 23.2613\n",
      "Epoch 15/50\n",
      "792/792 [==============================] - 0s 340us/step - loss: 775.0321 - mean_absolute_error: 48.0846 - val_loss: 374.9280 - val_mean_absolute_error: 23.2613\n",
      "Epoch 16/50\n",
      "792/792 [==============================] - 0s 328us/step - loss: 775.0321 - mean_absolute_error: 48.0846 - val_loss: 374.9280 - val_mean_absolute_error: 23.2613\n",
      "Epoch 17/50\n",
      "792/792 [==============================] - 0s 308us/step - loss: 775.0321 - mean_absolute_error: 48.0846 - val_loss: 374.9280 - val_mean_absolute_error: 23.2613\n",
      "Epoch 18/50\n",
      "792/792 [==============================] - 0s 341us/step - loss: 775.0321 - mean_absolute_error: 48.0846 - val_loss: 374.9280 - val_mean_absolute_error: 23.2613\n",
      "Epoch 19/50\n",
      "792/792 [==============================] - 0s 318us/step - loss: 775.0321 - mean_absolute_error: 48.0846 - val_loss: 374.9280 - val_mean_absolute_error: 23.2613\n",
      "Epoch 20/50\n",
      "792/792 [==============================] - 0s 326us/step - loss: 775.0321 - mean_absolute_error: 48.0846 - val_loss: 374.9280 - val_mean_absolute_error: 23.2613\n",
      "Epoch 21/50\n",
      "792/792 [==============================] - 0s 308us/step - loss: 775.0321 - mean_absolute_error: 48.0846 - val_loss: 374.9280 - val_mean_absolute_error: 23.2613\n",
      "Epoch 22/50\n",
      "792/792 [==============================] - 0s 310us/step - loss: 775.0321 - mean_absolute_error: 48.0846 - val_loss: 374.9280 - val_mean_absolute_error: 23.2613\n",
      "Epoch 23/50\n",
      "792/792 [==============================] - 0s 312us/step - loss: 775.0321 - mean_absolute_error: 48.0846 - val_loss: 374.9280 - val_mean_absolute_error: 23.2613\n",
      "Epoch 24/50\n",
      "792/792 [==============================] - 0s 299us/step - loss: 775.0321 - mean_absolute_error: 48.0846 - val_loss: 374.9280 - val_mean_absolute_error: 23.2613\n",
      "Epoch 25/50\n",
      "792/792 [==============================] - 0s 313us/step - loss: 775.0321 - mean_absolute_error: 48.0846 - val_loss: 374.9280 - val_mean_absolute_error: 23.2613\n",
      "Epoch 26/50\n",
      "792/792 [==============================] - 0s 384us/step - loss: 775.0321 - mean_absolute_error: 48.0846 - val_loss: 374.9280 - val_mean_absolute_error: 23.2613\n",
      "Epoch 27/50\n",
      "792/792 [==============================] - 0s 346us/step - loss: 775.0321 - mean_absolute_error: 48.0846 - val_loss: 374.9280 - val_mean_absolute_error: 23.2613\n",
      "Epoch 28/50\n",
      "792/792 [==============================] - 0s 344us/step - loss: 775.0321 - mean_absolute_error: 48.0846 - val_loss: 374.9280 - val_mean_absolute_error: 23.2613\n",
      "Epoch 29/50\n",
      "792/792 [==============================] - 0s 337us/step - loss: 775.0321 - mean_absolute_error: 48.0846 - val_loss: 374.9280 - val_mean_absolute_error: 23.2613\n",
      "Epoch 30/50\n",
      "792/792 [==============================] - 0s 310us/step - loss: 775.0321 - mean_absolute_error: 48.0846 - val_loss: 374.9280 - val_mean_absolute_error: 23.2613\n",
      "Epoch 31/50\n",
      "792/792 [==============================] - 0s 296us/step - loss: 775.0321 - mean_absolute_error: 48.0846 - val_loss: 374.9280 - val_mean_absolute_error: 23.2613\n",
      "Epoch 32/50\n",
      "792/792 [==============================] - 0s 326us/step - loss: 775.0321 - mean_absolute_error: 48.0846 - val_loss: 374.9280 - val_mean_absolute_error: 23.2613\n",
      "Epoch 33/50\n",
      "792/792 [==============================] - 0s 321us/step - loss: 775.0321 - mean_absolute_error: 48.0846 - val_loss: 374.9280 - val_mean_absolute_error: 23.2613\n",
      "Epoch 34/50\n",
      "792/792 [==============================] - 0s 314us/step - loss: 775.0321 - mean_absolute_error: 48.0846 - val_loss: 374.9280 - val_mean_absolute_error: 23.2613\n",
      "Epoch 35/50\n",
      "792/792 [==============================] - 0s 322us/step - loss: 775.0321 - mean_absolute_error: 48.0846 - val_loss: 374.9280 - val_mean_absolute_error: 23.2613\n",
      "Epoch 36/50\n",
      "792/792 [==============================] - 0s 330us/step - loss: 775.0321 - mean_absolute_error: 48.0846 - val_loss: 374.9280 - val_mean_absolute_error: 23.2613\n",
      "Epoch 37/50\n",
      "792/792 [==============================] - 0s 326us/step - loss: 775.0321 - mean_absolute_error: 48.0846 - val_loss: 374.9280 - val_mean_absolute_error: 23.2613\n",
      "Epoch 38/50\n",
      "792/792 [==============================] - 0s 328us/step - loss: 775.0321 - mean_absolute_error: 48.0846 - val_loss: 374.9280 - val_mean_absolute_error: 23.2613\n",
      "Epoch 39/50\n",
      "792/792 [==============================] - 0s 324us/step - loss: 775.0321 - mean_absolute_error: 48.0846 - val_loss: 374.9280 - val_mean_absolute_error: 23.2613\n",
      "Epoch 40/50\n",
      "792/792 [==============================] - 0s 325us/step - loss: 775.0321 - mean_absolute_error: 48.0846 - val_loss: 374.9280 - val_mean_absolute_error: 23.2613\n",
      "Epoch 41/50\n",
      "792/792 [==============================] - 0s 328us/step - loss: 775.0321 - mean_absolute_error: 48.0846 - val_loss: 374.9280 - val_mean_absolute_error: 23.2613\n",
      "Epoch 42/50\n",
      "792/792 [==============================] - 0s 326us/step - loss: 775.0321 - mean_absolute_error: 48.0846 - val_loss: 374.9280 - val_mean_absolute_error: 23.2613\n",
      "Epoch 43/50\n",
      "792/792 [==============================] - 0s 342us/step - loss: 775.0321 - mean_absolute_error: 48.0846 - val_loss: 374.9280 - val_mean_absolute_error: 23.2613\n",
      "Epoch 44/50\n",
      "792/792 [==============================] - 0s 350us/step - loss: 775.0321 - mean_absolute_error: 48.0846 - val_loss: 374.9280 - val_mean_absolute_error: 23.2613\n",
      "Epoch 45/50\n",
      "792/792 [==============================] - 0s 365us/step - loss: 775.0321 - mean_absolute_error: 48.0846 - val_loss: 374.9280 - val_mean_absolute_error: 23.2613\n",
      "Epoch 46/50\n",
      "792/792 [==============================] - 0s 332us/step - loss: 775.0321 - mean_absolute_error: 48.0846 - val_loss: 374.9280 - val_mean_absolute_error: 23.2613\n",
      "Epoch 47/50\n",
      "792/792 [==============================] - 0s 322us/step - loss: 775.0321 - mean_absolute_error: 48.0846 - val_loss: 374.9280 - val_mean_absolute_error: 23.2613\n",
      "Epoch 48/50\n"
     ]
    },
    {
     "name": "stdout",
     "output_type": "stream",
     "text": [
      "792/792 [==============================] - 0s 326us/step - loss: 775.0321 - mean_absolute_error: 48.0846 - val_loss: 374.9280 - val_mean_absolute_error: 23.2613\n",
      "Epoch 49/50\n",
      "792/792 [==============================] - 0s 312us/step - loss: 775.0321 - mean_absolute_error: 48.0846 - val_loss: 374.9280 - val_mean_absolute_error: 23.2613\n",
      "Epoch 50/50\n",
      "792/792 [==============================] - 0s 321us/step - loss: 775.0321 - mean_absolute_error: 48.0846 - val_loss: 374.9280 - val_mean_absolute_error: 23.2613\n",
      "991/991 [==============================] - 0s 17us/step\n",
      "mean_absolute_error: 4309.989909760045\n"
     ]
    }
   ],
   "source": [
    "model = trainData(dataX,dataY,3)"
   ]
  },
  {
   "cell_type": "code",
   "execution_count": null,
   "metadata": {},
   "outputs": [],
   "source": []
  }
 ],
 "metadata": {
  "kernelspec": {
   "display_name": "Python 3",
   "language": "python",
   "name": "python3"
  },
  "language_info": {
   "codemirror_mode": {
    "name": "ipython",
    "version": 3
   },
   "file_extension": ".py",
   "mimetype": "text/x-python",
   "name": "python",
   "nbconvert_exporter": "python",
   "pygments_lexer": "ipython3",
   "version": "3.6.4"
  }
 },
 "nbformat": 4,
 "nbformat_minor": 2
}
